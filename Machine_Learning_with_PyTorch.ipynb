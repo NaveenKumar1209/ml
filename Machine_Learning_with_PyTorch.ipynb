{
 "cells": [
  {
   "cell_type": "markdown",
   "metadata": {},
   "source": [
    "<p style=\"text-align:center\">\n",
    "    <a href=\"https://skills.network/?utm_medium=Exinfluencer&utm_source=Exinfluencer&utm_content=000026UJ&utm_term=10006555&utm_id=NA-SkillsNetwork-Channel-SkillsNetworkGuidedProjectsIBMDeveloperGPXX0W98EN3615-2023-01-01\">\n",
    "    <img src=\"https://cf-courses-data.s3.us.cloud-object-storage.appdomain.cloud/assets/logos/SN_web_lightmode.png\" width=\"200\" alt=\"Skills Network Logo\"  />\n",
    "    </a>\n",
    "</p>\n"
   ]
  },
  {
   "cell_type": "markdown",
   "metadata": {},
   "source": [
    "# **Machine Learning with PyTorch**\n",
    "\n",
    "Estimated time needed: **60** minutes\n",
    "\n",
    "PyTorch is an open source framework for AI research and commercial production in machine learning. It is used to build, train, and optimize deep learning neural networks for applications such as image recognition, natural language processing, and speech recognition. It provides computation support for CPU, GPU, parallel and distributed training on multiple GPUs and multiple nodes. PyTorch is also flexible and easily extensible, with specific libraries and tools available for many different domains. All of the above have made PyTorch a leading framework in machine learning.\n",
    "\n",
    "At IBM, we use PyTorch to train foundation models that power the generative AI capabilities of the IBM [watsonx](https://www.ibm.com/watsonx?utm_medium=Exinfluencer&utm_source=Exinfluencer&utm_content=000026UJ&utm_term=10006555&utm_id=NA-SkillsNetwork-Channel-SkillsNetworkGuidedProjectsIBMDeveloperGPXX0W98EN3615-2023-01-01) platform.\n",
    "\n",
    "This lab shows you how easy it is to get started with PyTorch and use it to build, train and evaluate a neural network.\n"
   ]
  },
  {
   "cell_type": "markdown",
   "metadata": {},
   "source": [
    "# __Table of Contents__\n",
    "\n",
    "<ol>\n",
    "    <li><a href=\"#Objectives\">Objectives</a></li>\n",
    "    <li>\n",
    "        <a href=\"#Setup\">Setup</a>\n",
    "        <ol>\n",
    "            <li><a href=\"#Installing-Required-Libraries\">Installing Required Libraries</a></li>\n",
    "            <li><a href=\"#Importing-Required-Libraries\">Importing Required Libraries</a></li>\n",
    "        </ol>\n",
    "    </li>\n",
    "    <li>\n",
    "        <a href=\"#[Subject-of-the-Lab]-Background\">How does this lab work?</a>\n",
    "    </li>\n",
    "    <li><a href=\"#Build-[Subject-of-the-Lab]-Model-To-Predict-Iris-Flowers\">Download Dataset and Create Data Loader</a></li>\n",
    "    <li><a href=\"#Build-[Subject-of-the-Lab]-Model-To-Read-Cheques\">Define Model</a></li>\n",
    "    <li><a href=\"#Build-[Subject-of-the-Lab]-Model-To-Predict-Iris-Flowers\">Training Loop</a></li>\n",
    "    <li><a href=\"#Build-[Subject-of-the-Lab]-Model-To-Predict-Iris-Flowers\">Train the Model</a></li>\n",
    "    <li><a href=\"#Build-[Subject-of-the-Lab]-Model-To-Read-Cheques\">Test Function</a></li>\n",
    "    <li><a href=\"#Build-[Subject-of-the-Lab]-Model-To-Read-Cheques\">Evaluate and Make Predictions</a></li>\n",
    "</ol>\n"
   ]
  },
  {
   "cell_type": "markdown",
   "metadata": {},
   "source": [
    "---\n"
   ]
  },
  {
   "cell_type": "markdown",
   "metadata": {},
   "source": [
    "# Objectives\n",
    "\n",
    "After completing this lab you will be able to:\n",
    "\n",
    " - Install necessary PyTorch libraries;\n",
    " - Use PyTorch to build, train and evaluate neural networks.\n",
    " - Save the trained model parameters and use them later for inferencing.\n"
   ]
  },
  {
   "cell_type": "markdown",
   "metadata": {},
   "source": [
    "---\n"
   ]
  },
  {
   "cell_type": "markdown",
   "metadata": {},
   "source": [
    "# Setup\n",
    "\n",
    "For this lab, we will be using the following libraries:\n",
    "\n",
    "*   [`torch`](https://pytorch.org/docs/stable/library.html?utm_medium=Exinfluencer&utm_source=Exinfluencer&utm_content=000026UJ&utm_term=10006555&utm_id=NA-SkillsNetwork-Channel-SkillsNetworkGuidedProjectsIBMDeveloperGPXX0W98EN3615-2023-01-01)\n",
    "*   [`TorchVision`](https://pytorch.org/vision/stable/index.html?utm_medium=Exinfluencer&utm_source=Exinfluencer&utm_content=000026UJ&utm_term=10006555&utm_id=NA-SkillsNetwork-Channel-SkillsNetworkGuidedProjectsIBMDeveloperGPXX0W98EN3615-2023-01-01)\n"
   ]
  },
  {
   "cell_type": "markdown",
   "metadata": {},
   "source": [
    "### Installing Required Libraries\n",
    "\n",
    "The following required libraries are pre-installed in the Skills Network Labs environment. However, if you run this notebook commands in a different Jupyter environment (e.g. Watson Studio or Ananconda), you will need to install these libraries by removing the `#` sign before `!pip` in the code cell below.\n"
   ]
  },
  {
   "cell_type": "code",
   "execution_count": null,
   "metadata": {},
   "outputs": [],
   "source": [
    "# All Libraries required for this lab are listed below. The libraries pre-installed on Skills Network Labs are commented.\n",
    "# !pip install torch torchvision"
   ]
  },
  {
   "cell_type": "markdown",
   "metadata": {},
   "source": [
    "### Importing Required Libraries\n",
    "\n",
    "_We recommend you import all required libraries in one place (here):_\n"
   ]
  },
  {
   "cell_type": "code",
   "execution_count": 1,
   "metadata": {
    "tags": []
   },
   "outputs": [],
   "source": [
    "import torch\n",
    "from torch import nn\n",
    "from torch.utils.data import DataLoader\n",
    "from torchvision import datasets\n",
    "from torchvision.transforms import ToTensor"
   ]
  },
  {
   "cell_type": "markdown",
   "metadata": {},
   "source": [
    "# How does this lab work?\n",
    " \n",
    "The lab uses MNIST datasets. The dataset has over 60,000 images of hand written digits. The data will be partitioned between training the AI model and testing the AI model after training.\n",
    "\n",
    "The main steps in this project include:\n",
    "\n",
    " 1. Download the MNIST dataset and create a DataLoader for the dataset.\n",
    " 2. Define an AI model to recognize a hand written digit.\n",
    " 3. Train the defined AI model using training data from the MNIST dataset.\n",
    " 4. Test the trained AI model using testing data from the MNIST dataset.\n",
    " 5. Evaluate\n"
   ]
  },
  {
   "cell_type": "markdown",
   "metadata": {},
   "source": [
    "# Download Dataset and Create Data Loader\n",
    "\n",
    "The images are 28x28 pixel images of digits 0 through 9.\n"
   ]
  },
  {
   "cell_type": "code",
   "execution_count": 2,
   "metadata": {
    "tags": []
   },
   "outputs": [
    {
     "name": "stdout",
     "output_type": "stream",
     "text": [
      "Downloading http://yann.lecun.com/exdb/mnist/train-images-idx3-ubyte.gz\n",
      "Downloading http://yann.lecun.com/exdb/mnist/train-images-idx3-ubyte.gz to data/MNIST/raw/train-images-idx3-ubyte.gz\n"
     ]
    },
    {
     "data": {
      "application/vnd.jupyter.widget-view+json": {
       "model_id": "9dad66e679fd4e809bb77246a6b5b0f9",
       "version_major": 2,
       "version_minor": 0
      },
      "text/plain": [
       "  0%|          | 0/9912422 [00:00<?, ?it/s]"
      ]
     },
     "metadata": {},
     "output_type": "display_data"
    },
    {
     "name": "stdout",
     "output_type": "stream",
     "text": [
      "Extracting data/MNIST/raw/train-images-idx3-ubyte.gz to data/MNIST/raw\n",
      "\n",
      "Downloading http://yann.lecun.com/exdb/mnist/train-labels-idx1-ubyte.gz\n",
      "Downloading http://yann.lecun.com/exdb/mnist/train-labels-idx1-ubyte.gz to data/MNIST/raw/train-labels-idx1-ubyte.gz\n"
     ]
    },
    {
     "data": {
      "application/vnd.jupyter.widget-view+json": {
       "model_id": "924610e0c5894d5ca87ef5d3be08388c",
       "version_major": 2,
       "version_minor": 0
      },
      "text/plain": [
       "  0%|          | 0/28881 [00:00<?, ?it/s]"
      ]
     },
     "metadata": {},
     "output_type": "display_data"
    },
    {
     "name": "stdout",
     "output_type": "stream",
     "text": [
      "Extracting data/MNIST/raw/train-labels-idx1-ubyte.gz to data/MNIST/raw\n",
      "\n",
      "Downloading http://yann.lecun.com/exdb/mnist/t10k-images-idx3-ubyte.gz\n",
      "Downloading http://yann.lecun.com/exdb/mnist/t10k-images-idx3-ubyte.gz to data/MNIST/raw/t10k-images-idx3-ubyte.gz\n"
     ]
    },
    {
     "data": {
      "application/vnd.jupyter.widget-view+json": {
       "model_id": "6d57ce87c6894a479fc0105b8b15c77f",
       "version_major": 2,
       "version_minor": 0
      },
      "text/plain": [
       "  0%|          | 0/1648877 [00:00<?, ?it/s]"
      ]
     },
     "metadata": {},
     "output_type": "display_data"
    },
    {
     "name": "stdout",
     "output_type": "stream",
     "text": [
      "Extracting data/MNIST/raw/t10k-images-idx3-ubyte.gz to data/MNIST/raw\n",
      "\n",
      "Downloading http://yann.lecun.com/exdb/mnist/t10k-labels-idx1-ubyte.gz\n",
      "Downloading http://yann.lecun.com/exdb/mnist/t10k-labels-idx1-ubyte.gz to data/MNIST/raw/t10k-labels-idx1-ubyte.gz\n"
     ]
    },
    {
     "data": {
      "application/vnd.jupyter.widget-view+json": {
       "model_id": "6ccbc54b7ba14907a921918ac763ef1b",
       "version_major": 2,
       "version_minor": 0
      },
      "text/plain": [
       "  0%|          | 0/4542 [00:00<?, ?it/s]"
      ]
     },
     "metadata": {},
     "output_type": "display_data"
    },
    {
     "name": "stdout",
     "output_type": "stream",
     "text": [
      "Extracting data/MNIST/raw/t10k-labels-idx1-ubyte.gz to data/MNIST/raw\n",
      "\n",
      "Training data size: 60032\n",
      "Test data size: 10048\n",
      "Shape of X [N, C, H, W]: torch.Size([64, 1, 28, 28])\n",
      "Shape of y: torch.Size([64]) torch.int64\n"
     ]
    }
   ],
   "source": [
    "# Download training data from MNIST datasets.\n",
    "training_data = datasets.MNIST(\n",
    "    root=\"data\",\n",
    "    train=True,\n",
    "    download=True,\n",
    "    transform=ToTensor(),\n",
    ")\n",
    "\n",
    "# Download test data from open datasets.\n",
    "test_data = datasets.MNIST(\n",
    "    root=\"data\",\n",
    "    train=False,\n",
    "    download=True,\n",
    "    transform=ToTensor(),\n",
    ")\n",
    "\n",
    "batch_size = 64\n",
    "\n",
    "# Create data loaders to iterate over data\n",
    "train_dataloader = DataLoader(training_data, batch_size=batch_size)\n",
    "test_dataloader = DataLoader(test_data, batch_size=batch_size)\n",
    "\n",
    "print(\"Training data size:\", len(train_dataloader) * batch_size)\n",
    "print(\"Test data size:\", len(test_dataloader) * batch_size)\n",
    "\n",
    "for X, y in test_dataloader:\n",
    "    print(f\"Shape of X [N, C, H, W]: {X.shape}\")\n",
    "    print(f\"Shape of y: {y.shape} {y.dtype}\")\n",
    "    break"
   ]
  },
  {
   "cell_type": "markdown",
   "metadata": {},
   "source": [
    "# Define Model\n",
    "\n",
    "We first determine the best device for performing training with cpu as the default device.\n",
    "\n",
    "We then define the AI model as a neural network with 3 layers: an input layer, a hidden layer, and an output layer. Between the layers, we use a ReLU activation function.\n",
    "\n",
    "Since the input images are 1x28x28 tensors, we need to flatten the input tensors into a 784 element tensor using the Flatten module before passing the input into our neural network.\n"
   ]
  },
  {
   "cell_type": "code",
   "execution_count": 3,
   "metadata": {
    "tags": []
   },
   "outputs": [
    {
     "name": "stdout",
     "output_type": "stream",
     "text": [
      "Using cpu device\n",
      "NeuralNetwork(\n",
      "  (flatten): Flatten(start_dim=1, end_dim=-1)\n",
      "  (linear_relu_stack): Sequential(\n",
      "    (0): Linear(in_features=784, out_features=512, bias=True)\n",
      "    (1): ReLU()\n",
      "    (2): Linear(in_features=512, out_features=512, bias=True)\n",
      "    (3): ReLU()\n",
      "    (4): Linear(in_features=512, out_features=10, bias=True)\n",
      "  )\n",
      ")\n"
     ]
    }
   ],
   "source": [
    "# Get device for training.\n",
    "device = torch.device(\n",
    "    \"cuda\" if torch.cuda.is_available()\n",
    "    else \"mps\" if torch.backends.mps.is_available() # Apple Silicon GPU\n",
    "    else \"cpu\"\n",
    ")\n",
    "print(f\"Using {device} device\")\n",
    "\n",
    "# Define model\n",
    "class NeuralNetwork(nn.Module):\n",
    "    def __init__(self, input_size, hidden_size, num_classes):\n",
    "        super().__init__()\n",
    "        self.flatten = nn.Flatten()\n",
    "        self.linear_relu_stack = nn.Sequential(\n",
    "            nn.Linear(input_size, hidden_size),\n",
    "            nn.ReLU(),\n",
    "            nn.Linear(hidden_size, hidden_size),\n",
    "            nn.ReLU(),\n",
    "            nn.Linear(hidden_size, num_classes)\n",
    "        )\n",
    "\n",
    "    def forward(self, image_tensor):\n",
    "        image_tensor = self.flatten(image_tensor)\n",
    "        logits = self.linear_relu_stack(image_tensor)\n",
    "        return logits\n",
    "\n",
    "input_size = 28*28\n",
    "hidden_size = 512\n",
    "num_classes = 10\n",
    "\n",
    "model = NeuralNetwork(input_size, hidden_size, num_classes).to(device)\n",
    "print(model)"
   ]
  },
  {
   "cell_type": "markdown",
   "metadata": {},
   "source": [
    "# Training loop\n",
    "\n",
    "We implement a training function to use with the train_dataloader to train our model. Each iteration over the dataloader returns a batch_size image data tensor along with the expected output. After moving the tensors to the device, we call the forward pass of our model, compute the prediction error using the expected output and then call the backwards pass to compute the gradients and apply them to the model parameters.\n"
   ]
  },
  {
   "cell_type": "code",
   "execution_count": 4,
   "metadata": {
    "tags": []
   },
   "outputs": [],
   "source": [
    "# Define our learning rate, loss function and optimizer\n",
    "learning_rate = 1e-3 # 0.001\n",
    "loss_fn = nn.CrossEntropyLoss()\n",
    "optimizer = torch.optim.Adam(model.parameters(), lr=learning_rate)\n",
    "\n",
    "# Let's define our training function \n",
    "def train(dataloader, model, loss_fn, optimizer):\n",
    "    size = len(dataloader.dataset)\n",
    "    model.train()\n",
    "\n",
    "    for batch_num, (X, y) in enumerate(dataloader):\n",
    "        X, y = X.to(device), y.to(device)\n",
    "\n",
    "        # Forward pass to compute prediction\n",
    "        pred = model(X)\n",
    "        # Compute prediction error using loss function\n",
    "        loss = loss_fn(pred, y)\n",
    "\n",
    "        # Backward pass\n",
    "        optimizer.zero_grad() # zero any previous gradient calculations\n",
    "        loss.backward() # calculate gradient\n",
    "        optimizer.step() # update model parameters\n",
    "        \n",
    "        if batch_num > 0 and batch_num % 100 == 0:\n",
    "            loss, current = loss.item(), batch_num * len(X)\n",
    "            print(f\"loss: {loss:>7f}  [{current:>5d}/{size:>5d}]\")"
   ]
  },
  {
   "cell_type": "markdown",
   "metadata": {},
   "source": [
    "# Test Loop\n",
    "\n",
    "The test methods evaluates the model's predictive performance using the test_dataloader. During testing, we don't require gradient computation, so we set the model in evaluate mode.\n"
   ]
  },
  {
   "cell_type": "code",
   "execution_count": 5,
   "metadata": {
    "tags": []
   },
   "outputs": [],
   "source": [
    "# Our test function\n",
    "def test(dataloader, model, loss_fn):\n",
    "    size = len(dataloader.dataset)\n",
    "    num_batches = len(dataloader)\n",
    "    model.eval()\n",
    "    test_loss, correct = 0, 0\n",
    "    for X, y in dataloader:\n",
    "        X, y = X.to(device), y.to(device)\n",
    "        pred = model(X)\n",
    "        test_loss += loss_fn(pred, y).item()\n",
    "        correct += (pred.argmax(1) == y).type(torch.float).sum().item()\n",
    "    test_loss /= num_batches\n",
    "    correct /= size\n",
    "    print(f\"Test Error: \\n Accuracy: {(100*correct):>0.1f}%, Avg loss: {test_loss:>8f} \\n\")"
   ]
  },
  {
   "cell_type": "markdown",
   "metadata": {},
   "source": [
    "# Train the Model\n",
    "\n",
    "Now that we have defined methods to train our model and test the trained model's predictive behavior, lets train the model for 5 epochs over the dataset.\n"
   ]
  },
  {
   "cell_type": "code",
   "execution_count": 6,
   "metadata": {
    "tags": []
   },
   "outputs": [
    {
     "name": "stdout",
     "output_type": "stream",
     "text": [
      "Epoch 1\n",
      "-------------------------------\n",
      "loss: 0.274961  [ 6400/60000]\n",
      "loss: 0.192280  [12800/60000]\n",
      "loss: 0.260818  [19200/60000]\n",
      "loss: 0.139134  [25600/60000]\n",
      "loss: 0.285859  [32000/60000]\n",
      "loss: 0.133004  [38400/60000]\n",
      "loss: 0.199565  [44800/60000]\n",
      "loss: 0.296402  [51200/60000]\n",
      "loss: 0.140452  [57600/60000]\n",
      "Test Error: \n",
      " Accuracy: 95.5%, Avg loss: 0.141180 \n",
      "\n",
      "Epoch 2\n",
      "-------------------------------\n",
      "loss: 0.097513  [ 6400/60000]\n",
      "loss: 0.107396  [12800/60000]\n",
      "loss: 0.074052  [19200/60000]\n",
      "loss: 0.060596  [25600/60000]\n",
      "loss: 0.115109  [32000/60000]\n",
      "loss: 0.053876  [38400/60000]\n",
      "loss: 0.115973  [44800/60000]\n",
      "loss: 0.168484  [51200/60000]\n",
      "loss: 0.108064  [57600/60000]\n",
      "Test Error: \n",
      " Accuracy: 96.0%, Avg loss: 0.134461 \n",
      "\n",
      "Epoch 3\n",
      "-------------------------------\n",
      "loss: 0.069211  [ 6400/60000]\n",
      "loss: 0.044162  [12800/60000]\n",
      "loss: 0.112332  [19200/60000]\n",
      "loss: 0.038874  [25600/60000]\n",
      "loss: 0.041871  [32000/60000]\n",
      "loss: 0.027199  [38400/60000]\n",
      "loss: 0.060092  [44800/60000]\n",
      "loss: 0.083819  [51200/60000]\n",
      "loss: 0.131893  [57600/60000]\n",
      "Test Error: \n",
      " Accuracy: 96.2%, Avg loss: 0.127615 \n",
      "\n",
      "Epoch 4\n",
      "-------------------------------\n",
      "loss: 0.068312  [ 6400/60000]\n",
      "loss: 0.047312  [12800/60000]\n",
      "loss: 0.042360  [19200/60000]\n",
      "loss: 0.018406  [25600/60000]\n",
      "loss: 0.055152  [32000/60000]\n",
      "loss: 0.079993  [38400/60000]\n",
      "loss: 0.040896  [44800/60000]\n",
      "loss: 0.085023  [51200/60000]\n",
      "loss: 0.081714  [57600/60000]\n",
      "Test Error: \n",
      " Accuracy: 97.0%, Avg loss: 0.109582 \n",
      "\n",
      "Epoch 5\n",
      "-------------------------------\n",
      "loss: 0.036653  [ 6400/60000]\n",
      "loss: 0.035079  [12800/60000]\n",
      "loss: 0.002338  [19200/60000]\n",
      "loss: 0.024202  [25600/60000]\n",
      "loss: 0.037857  [32000/60000]\n",
      "loss: 0.039194  [38400/60000]\n",
      "loss: 0.015849  [44800/60000]\n",
      "loss: 0.101398  [51200/60000]\n",
      "loss: 0.042411  [57600/60000]\n",
      "Test Error: \n",
      " Accuracy: 97.3%, Avg loss: 0.095983 \n",
      "\n",
      "Done!\n"
     ]
    }
   ],
   "source": [
    "# Let's run training\n",
    "epochs = 5\n",
    "for t in range(epochs):\n",
    "    print(f\"Epoch {t+1}\\n-------------------------------\")\n",
    "    train(train_dataloader, model, loss_fn, optimizer)\n",
    "    test(test_dataloader, model, loss_fn)\n",
    "print(\"Done!\")"
   ]
  },
  {
   "cell_type": "markdown",
   "metadata": {},
   "source": [
    "# Save the model and make predictions\n",
    "\n",
    "Once we have a trained model, we can save the model parameters for future use in inferences. Here we save the state_dict of the model which contains the trained parameters. We then create a new instance of the model and load the previously saved parameters into the new instance of the model. Finally we can inference using the new instance of the model.\n"
   ]
  },
  {
   "cell_type": "code",
   "execution_count": 7,
   "metadata": {
    "tags": []
   },
   "outputs": [
    {
     "name": "stdout",
     "output_type": "stream",
     "text": [
      "Saved PyTorch Model State to ml_with_pytorch_model.pth\n",
      "Predicted: \"7\", Actual: \"7\"\n",
      "Predicted: \"2\", Actual: \"2\"\n",
      "Predicted: \"1\", Actual: \"1\"\n",
      "Predicted: \"0\", Actual: \"0\"\n",
      "Predicted: \"4\", Actual: \"4\"\n",
      "Predicted: \"1\", Actual: \"1\"\n",
      "Predicted: \"4\", Actual: \"4\"\n",
      "Predicted: \"9\", Actual: \"9\"\n",
      "Predicted: \"5\", Actual: \"5\"\n",
      "Predicted: \"9\", Actual: \"9\"\n"
     ]
    }
   ],
   "source": [
    "# Save our model parameters\n",
    "torch.save(model.state_dict(), \"ml_with_pytorch_model.pth\")\n",
    "print(\"Saved PyTorch Model State to ml_with_pytorch_model.pth\")\n",
    "\n",
    "# Load the saved model parameters into a new instance of the model\n",
    "model = NeuralNetwork(input_size, hidden_size, num_classes).to(device)\n",
    "model.load_state_dict(torch.load(\"ml_with_pytorch_model.pth\"))\n",
    "\n",
    "# Inference using the new model instance\n",
    "model.eval()\n",
    "for i in range(10):\n",
    "    x, y = test_data[i][0], test_data[i][1]\n",
    "\n",
    "    x = x.to(device)\n",
    "    pred = model(x)\n",
    "    predicted, actual = pred[0].argmax(0).item(), y\n",
    "    print(f'Predicted: \"{predicted}\", Actual: \"{actual}\"')"
   ]
  },
  {
   "cell_type": "markdown",
   "metadata": {},
   "source": [
    "# Congratulations! You have completed the lab\n"
   ]
  },
  {
   "cell_type": "markdown",
   "metadata": {},
   "source": [
    "## Authors\n"
   ]
  },
  {
   "cell_type": "markdown",
   "metadata": {},
   "source": [
    "Sahdev Zala, BJ Hargrave\n"
   ]
  },
  {
   "cell_type": "markdown",
   "metadata": {},
   "source": [
    "Kiersten Stokes, Mike Brown\n"
   ]
  },
  {
   "cell_type": "markdown",
   "metadata": {},
   "source": [
    "### Other Contributors\n"
   ]
  },
  {
   "cell_type": "markdown",
   "metadata": {},
   "source": [
    "[Contributor with Link](contributor_linl), Contributor No Link\n"
   ]
  },
  {
   "cell_type": "markdown",
   "metadata": {},
   "source": [
    "## Change Log\n"
   ]
  },
  {
   "cell_type": "markdown",
   "metadata": {},
   "source": [
    "|Date (YYYY-MM-DD)|Version|Changed By|Change Description|\n",
    "|-|-|-|-|\n",
    "|2023-05-01|0.1|Shengkai|Create Lab Template|\n"
   ]
  },
  {
   "cell_type": "markdown",
   "metadata": {},
   "source": [
    "Copyright © 2023 IBM Corporation. All rights reserved.\n"
   ]
  }
 ],
 "metadata": {
  "kernelspec": {
   "display_name": "Python",
   "language": "python",
   "name": "conda-env-python-py"
  },
  "language_info": {
   "codemirror_mode": {
    "name": "ipython",
    "version": 3
   },
   "file_extension": ".py",
   "mimetype": "text/x-python",
   "name": "python",
   "nbconvert_exporter": "python",
   "pygments_lexer": "ipython3",
   "version": "3.7.12"
  }
 },
 "nbformat": 4,
 "nbformat_minor": 4
}
