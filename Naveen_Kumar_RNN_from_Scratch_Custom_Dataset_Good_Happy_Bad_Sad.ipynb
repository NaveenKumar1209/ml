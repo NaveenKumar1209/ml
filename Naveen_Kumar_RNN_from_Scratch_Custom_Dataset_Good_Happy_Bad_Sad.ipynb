{
  "nbformat": 4,
  "nbformat_minor": 0,
  "metadata": {
    "colab": {
      "provenance": [],
      "include_colab_link": true
    },
    "kernelspec": {
      "name": "python3",
      "display_name": "Python 3"
    },
    "language_info": {
      "name": "python"
    }
  },
  "cells": [
    {
      "cell_type": "markdown",
      "metadata": {
        "id": "view-in-github",
        "colab_type": "text"
      },
      "source": [
        "<a href=\"https://colab.research.google.com/github/NaveenKumar1209/ml/blob/main/Naveen_Kumar_RNN_from_Scratch_Custom_Dataset_Good_Happy_Bad_Sad.ipynb\" target=\"_parent\"><img src=\"https://colab.research.google.com/assets/colab-badge.svg\" alt=\"Open In Colab\"/></a>"
      ]
    },
    {
      "cell_type": "code",
      "execution_count": null,
      "metadata": {
        "id": "_QH9AlvZKc0G"
      },
      "outputs": [],
      "source": [
        "train_data = {\n",
        "  'good': True,\n",
        "  'bad': False,\n",
        "  'happy': True,\n",
        "  'sad': False,\n",
        "  'not good': False,\n",
        "  'not bad': True,\n",
        "  'not happy': False,\n",
        "  'not sad': True,\n",
        "  'very good': True,\n",
        "  'very bad': False,\n",
        "  'very happy': True,\n",
        "  'very sad': False,\n",
        "  'i am happy': True,\n",
        "  'this is good': True,\n",
        "  'i am bad': False,\n",
        "  'this is bad': False,\n",
        "  'i am sad': False,\n",
        "  'this is sad': False,\n",
        "  'i am not happy': False,\n",
        "  'this is not good': False,\n",
        "  'i am not bad': True,\n",
        "  'this is not sad': True,\n",
        "  'i am very happy': True,\n",
        "  'this is very good': True,\n",
        "  'i am very bad': False,\n",
        "  'this is very sad': False,\n",
        "  'this is very happy': True,\n",
        "  'i am good not bad': True,\n",
        "  'this is good not bad': True,\n",
        "  'i am bad not good': False,\n",
        "  'i am good and happy': True,\n",
        "  'this is not good and not happy': False,\n",
        "  'i am not at all good': False,\n",
        "  'i am not at all bad': True,\n",
        "  'i am not at all happy': False,\n",
        "  'this is not at all sad': True,\n",
        "  'this is not at all happy': False,\n",
        "  'i am good right now': True,\n",
        "  'i am bad right now': False,\n",
        "  'this is bad right now': False,\n",
        "  'i am sad right now': False,\n",
        "  'i was good earlier': True,\n",
        "  'i was happy earlier': True,\n",
        "  'i was bad earlier': False,\n",
        "  'i was sad earlier': False,\n",
        "  'i am very bad right now': False,\n",
        "  'this is very good right now': True,\n",
        "  'this is very sad right now': False,\n",
        "  'this was bad earlier': False,\n",
        "  'this was very good earlier': True,\n",
        "  'this was very bad earlier': False,\n",
        "  'this was very happy earlier': True,\n",
        "  'this was very sad earlier': False,\n",
        "  'i was good and not bad earlier': True,\n",
        "  'i was not good and not happy earlier': False,\n",
        "  'i am not at all bad or sad right now': True,\n",
        "  'i am not at all good or happy right now': False,\n",
        "  'this was not happy and not good earlier': False,\n",
        "}\n",
        "\n",
        "test_data = {\n",
        "  'this is happy': True,\n",
        "  'i am good': True,\n",
        "  'this is not happy': False,\n",
        "  'i am not good': False,\n",
        "  'this is not bad': True,\n",
        "  'i am not sad': True,\n",
        "  'i am very good': True,\n",
        "  'this is very bad': False,\n",
        "  'i am very sad': False,\n",
        "  'this is bad not good': False,\n",
        "  'this is good and happy': True,\n",
        "  'i am not good and not happy': False,\n",
        "  'i am not at all sad': True,\n",
        "  'this is not at all good': False,\n",
        "  'this is not at all bad': True,\n",
        "  'this is good right now': True,\n",
        "  'this is sad right now': False,\n",
        "  'this is very bad right now': False,\n",
        "  'this was good earlier': True,\n",
        "  'i was not happy and not good earlier': False,\n",
        "}"
      ]
    },
    {
      "cell_type": "code",
      "source": [],
      "metadata": {
        "id": "bFkyqebdmYcC"
      },
      "execution_count": null,
      "outputs": []
    },
    {
      "cell_type": "code",
      "source": [
        "train_data.keys()"
      ],
      "metadata": {
        "colab": {
          "base_uri": "https://localhost:8080/"
        },
        "id": "7CUgHQOfLMSX",
        "outputId": "6a6f2014-5837-4966-b383-f39c6b398982"
      },
      "execution_count": null,
      "outputs": [
        {
          "output_type": "execute_result",
          "data": {
            "text/plain": [
              "dict_keys(['good', 'bad', 'happy', 'sad', 'not good', 'not bad', 'not happy', 'not sad', 'very good', 'very bad', 'very happy', 'very sad', 'i am happy', 'this is good', 'i am bad', 'this is bad', 'i am sad', 'this is sad', 'i am not happy', 'this is not good', 'i am not bad', 'this is not sad', 'i am very happy', 'this is very good', 'i am very bad', 'this is very sad', 'this is very happy', 'i am good not bad', 'this is good not bad', 'i am bad not good', 'i am good and happy', 'this is not good and not happy', 'i am not at all good', 'i am not at all bad', 'i am not at all happy', 'this is not at all sad', 'this is not at all happy', 'i am good right now', 'i am bad right now', 'this is bad right now', 'i am sad right now', 'i was good earlier', 'i was happy earlier', 'i was bad earlier', 'i was sad earlier', 'i am very bad right now', 'this is very good right now', 'this is very sad right now', 'this was bad earlier', 'this was very good earlier', 'this was very bad earlier', 'this was very happy earlier', 'this was very sad earlier', 'i was good and not bad earlier', 'i was not good and not happy earlier', 'i am not at all bad or sad right now', 'i am not at all good or happy right now', 'this was not happy and not good earlier'])"
            ]
          },
          "metadata": {},
          "execution_count": 3
        }
      ]
    },
    {
      "cell_type": "code",
      "source": [
        "list(set(\"a a b a d c\".split(' ')))"
      ],
      "metadata": {
        "colab": {
          "base_uri": "https://localhost:8080/"
        },
        "id": "ha6j8vwWMqoy",
        "outputId": "343a642d-2707-48a6-8321-0f9bdcc3f5ac"
      },
      "execution_count": null,
      "outputs": [
        {
          "output_type": "execute_result",
          "data": {
            "text/plain": [
              "['d', 'a', 'b', 'c']"
            ]
          },
          "metadata": {},
          "execution_count": 4
        }
      ]
    },
    {
      "cell_type": "code",
      "source": [
        "vocab = list(set([w for text in train_data.keys() for w in text.split(' ')]))\n",
        "vocab_size = len(vocab)\n",
        "print('%d unique words found' % vocab_size) # 18 unique words found\n",
        "print(vocab)\n"
      ],
      "metadata": {
        "colab": {
          "base_uri": "https://localhost:8080/"
        },
        "id": "MAZrS48TLAg6",
        "outputId": "1a33c1b8-c575-43c6-e3b0-7f4c93962605"
      },
      "execution_count": null,
      "outputs": [
        {
          "output_type": "stream",
          "name": "stdout",
          "text": [
            "18 unique words found\n",
            "['or', 'and', 'sad', 'am', 'not', 'bad', 'good', 'happy', 'this', 'now', 'i', 'all', 'right', 'is', 'at', 'very', 'was', 'earlier']\n"
          ]
        }
      ]
    },
    {
      "cell_type": "code",
      "source": [
        "# Assign indices to each word.\n",
        "word_to_idx = { w: i for i, w in enumerate(vocab) }\n",
        "idx_to_word = { i: w for i, w in enumerate(vocab) }\n",
        "print(word_to_idx['good']) # 16 (this may change)\n",
        "print(idx_to_word[0]) # sad (this may change)"
      ],
      "metadata": {
        "colab": {
          "base_uri": "https://localhost:8080/"
        },
        "id": "vvONQzpwLTkq",
        "outputId": "8d1c5949-90d6-4c31-a7ed-c3f02ac1830b"
      },
      "execution_count": null,
      "outputs": [
        {
          "output_type": "stream",
          "name": "stdout",
          "text": [
            "6\n",
            "or\n"
          ]
        }
      ]
    },
    {
      "cell_type": "code",
      "source": [
        "idx_to_word"
      ],
      "metadata": {
        "colab": {
          "base_uri": "https://localhost:8080/"
        },
        "id": "6Y3vBzzTLYSb",
        "outputId": "6b6f5668-8528-499d-826a-99b21b7a9097"
      },
      "execution_count": null,
      "outputs": [
        {
          "output_type": "execute_result",
          "data": {
            "text/plain": [
              "{0: 'or',\n",
              " 1: 'and',\n",
              " 2: 'sad',\n",
              " 3: 'am',\n",
              " 4: 'not',\n",
              " 5: 'bad',\n",
              " 6: 'good',\n",
              " 7: 'happy',\n",
              " 8: 'this',\n",
              " 9: 'now',\n",
              " 10: 'i',\n",
              " 11: 'all',\n",
              " 12: 'right',\n",
              " 13: 'is',\n",
              " 14: 'at',\n",
              " 15: 'very',\n",
              " 16: 'was',\n",
              " 17: 'earlier'}"
            ]
          },
          "metadata": {},
          "execution_count": 7
        }
      ]
    },
    {
      "cell_type": "code",
      "source": [
        "import numpy as np\n",
        "\n",
        "def createInputs(text):\n",
        "  '''\n",
        "  Returns an array of one-hot vectors representing the words\n",
        "  in the input text string.\n",
        "  - text is a string\n",
        "  - Each one-hot vector has shape (vocab_size, 1)\n",
        "  '''\n",
        "  inputs = []\n",
        "  for w in text.split(' '):\n",
        "    v = np.zeros((vocab_size, 1))\n",
        "    v[word_to_idx[w]] = 1\n",
        "    inputs.append(v)\n",
        "  return inputs"
      ],
      "metadata": {
        "id": "Ng42jbH1LZ65"
      },
      "execution_count": null,
      "outputs": []
    },
    {
      "cell_type": "code",
      "source": [
        "createInputs(\"i am very happy\")"
      ],
      "metadata": {
        "id": "gw8_4V8fLkwF",
        "colab": {
          "base_uri": "https://localhost:8080/"
        },
        "outputId": "5c3c29d6-94d1-4684-d121-1b891c84d214"
      },
      "execution_count": null,
      "outputs": [
        {
          "output_type": "execute_result",
          "data": {
            "text/plain": [
              "[array([[0.],\n",
              "        [0.],\n",
              "        [0.],\n",
              "        [0.],\n",
              "        [0.],\n",
              "        [0.],\n",
              "        [0.],\n",
              "        [0.],\n",
              "        [0.],\n",
              "        [0.],\n",
              "        [1.],\n",
              "        [0.],\n",
              "        [0.],\n",
              "        [0.],\n",
              "        [0.],\n",
              "        [0.],\n",
              "        [0.],\n",
              "        [0.]]),\n",
              " array([[0.],\n",
              "        [0.],\n",
              "        [0.],\n",
              "        [1.],\n",
              "        [0.],\n",
              "        [0.],\n",
              "        [0.],\n",
              "        [0.],\n",
              "        [0.],\n",
              "        [0.],\n",
              "        [0.],\n",
              "        [0.],\n",
              "        [0.],\n",
              "        [0.],\n",
              "        [0.],\n",
              "        [0.],\n",
              "        [0.],\n",
              "        [0.]]),\n",
              " array([[0.],\n",
              "        [0.],\n",
              "        [0.],\n",
              "        [0.],\n",
              "        [0.],\n",
              "        [0.],\n",
              "        [0.],\n",
              "        [0.],\n",
              "        [0.],\n",
              "        [0.],\n",
              "        [0.],\n",
              "        [0.],\n",
              "        [0.],\n",
              "        [0.],\n",
              "        [0.],\n",
              "        [1.],\n",
              "        [0.],\n",
              "        [0.]]),\n",
              " array([[0.],\n",
              "        [0.],\n",
              "        [0.],\n",
              "        [0.],\n",
              "        [0.],\n",
              "        [0.],\n",
              "        [0.],\n",
              "        [1.],\n",
              "        [0.],\n",
              "        [0.],\n",
              "        [0.],\n",
              "        [0.],\n",
              "        [0.],\n",
              "        [0.],\n",
              "        [0.],\n",
              "        [0.],\n",
              "        [0.],\n",
              "        [0.]])]"
            ]
          },
          "metadata": {},
          "execution_count": 9
        }
      ]
    },
    {
      "cell_type": "code",
      "source": [
        "testip = \"i am very happy\"\n",
        "for txt, vec in zip(testip.split(\" \"), createInputs(testip)):\n",
        "  print(txt, list(vec))"
      ],
      "metadata": {
        "colab": {
          "base_uri": "https://localhost:8080/"
        },
        "id": "9M3mnQ8eMcLi",
        "outputId": "b85a91d2-8db4-4c1c-b3c1-5f99150c494d"
      },
      "execution_count": null,
      "outputs": [
        {
          "output_type": "stream",
          "name": "stdout",
          "text": [
            "i [array([0.]), array([0.]), array([0.]), array([0.]), array([0.]), array([0.]), array([0.]), array([0.]), array([0.]), array([0.]), array([1.]), array([0.]), array([0.]), array([0.]), array([0.]), array([0.]), array([0.]), array([0.])]\n",
            "am [array([0.]), array([0.]), array([0.]), array([1.]), array([0.]), array([0.]), array([0.]), array([0.]), array([0.]), array([0.]), array([0.]), array([0.]), array([0.]), array([0.]), array([0.]), array([0.]), array([0.]), array([0.])]\n",
            "very [array([0.]), array([0.]), array([0.]), array([0.]), array([0.]), array([0.]), array([0.]), array([0.]), array([0.]), array([0.]), array([0.]), array([0.]), array([0.]), array([0.]), array([0.]), array([1.]), array([0.]), array([0.])]\n",
            "happy [array([0.]), array([0.]), array([0.]), array([0.]), array([0.]), array([0.]), array([0.]), array([1.]), array([0.]), array([0.]), array([0.]), array([0.]), array([0.]), array([0.]), array([0.]), array([0.]), array([0.]), array([0.])]\n"
          ]
        }
      ]
    },
    {
      "cell_type": "code",
      "source": [
        "import numpy as np\n",
        "from numpy.random import randn"
      ],
      "metadata": {
        "id": "BIsPQ5HENo--"
      },
      "execution_count": null,
      "outputs": []
    },
    {
      "cell_type": "code",
      "source": [
        "class RNN:\n",
        "  # A Vanilla Recurrent Neural Network.\n",
        "\n",
        "  def __init__(self, input_size, output_size, hidden_size=64):\n",
        "    # Weights\n",
        "    self.Whh = randn(hidden_size, hidden_size) / 1000\n",
        "    self.Wxh = randn(hidden_size, input_size) / 1000\n",
        "    self.Why = randn(output_size, hidden_size) / 1000\n",
        "\n",
        "    # Biases\n",
        "    self.bh = np.zeros((hidden_size, 1))\n",
        "    self.by = np.zeros((output_size, 1))\n",
        "\n",
        "  def forward(self, inputs):\n",
        "\n",
        "    h = np.zeros((self.Whh.shape[0], 1))\n",
        "\n",
        "    self.last_inputs = inputs\n",
        "    self.last_hs = { 0: h }\n",
        "\n",
        "    for i, x in enumerate(inputs):\n",
        "      h = np.tanh(self.Wxh @ x + self.Whh @ h + self.bh)\n",
        "      self.last_hs[i + 1] = h\n",
        "\n",
        "    y = self.Why @ h + self.by\n",
        "    return y, h\n",
        "\n",
        "  def backprop(self, d_y, learn_rate=2e-2):\n",
        "      '''\n",
        "      Perform a backward pass of the RNN.\n",
        "      - d_y (dL/dy) has shape (output_size, 1).\n",
        "      - learn_rate is a float.\n",
        "      '''\n",
        "      n = len(self.last_inputs)\n",
        "\n",
        "      # Calculate dL/dWhy and dL/dby.\n",
        "      d_Why = d_y @ self.last_hs[n].T\n",
        "      d_by = d_y\n",
        "\n",
        "      # Initialize dL/dWhh, dL/dWxh, and dL/dbh to zero.\n",
        "      d_Whh = np.zeros(self.Whh.shape)\n",
        "      d_Wxh = np.zeros(self.Wxh.shape)\n",
        "      d_bh = np.zeros(self.bh.shape)\n",
        "\n",
        "      # Calculate dL/dh for the last h.\n",
        "      d_h = self.Why.T @ d_y\n",
        "\n",
        "      # Backpropagate through time.\n",
        "      for t in reversed(range(n)):\n",
        "        # An intermediate value: dL/dh * (1 - h^2)\n",
        "        temp = ((1 - self.last_hs[t + 1] ** 2) * d_h)\n",
        "\n",
        "        # dL/db = dL/dh * (1 - h^2)\n",
        "        d_bh += temp\n",
        "\n",
        "        # dL/dWhh = dL/dh * (1 - h^2) * h_{t-1}\n",
        "        d_Whh += temp @ self.last_hs[t].T\n",
        "\n",
        "        # dL/dWxh = dL/dh * (1 - h^2) * x\n",
        "        d_Wxh += temp @ self.last_inputs[t].T\n",
        "\n",
        "        # Next dL/dh = dL/dh * (1 - h^2) * Whh\n",
        "        d_h = self.Whh @ temp\n",
        "\n",
        "      # Clip to prevent exploding gradients.\n",
        "      for d in [d_Wxh, d_Whh, d_Why, d_bh, d_by]:\n",
        "        np.clip(d, -1, 1, out=d)\n",
        "\n",
        "      # Update weights and biases using gradient descent.\n",
        "      self.Whh -= learn_rate * d_Whh\n",
        "      self.Wxh -= learn_rate * d_Wxh\n",
        "      self.Why -= learn_rate * d_Why\n",
        "      self.bh -= learn_rate * d_bh\n",
        "      self.by -= learn_rate * d_by"
      ],
      "metadata": {
        "id": "zzYdlA2wLpQ6"
      },
      "execution_count": null,
      "outputs": []
    },
    {
      "cell_type": "code",
      "source": [
        "rnn = RNN(vocab_size, 2) # vocab_size is 18"
      ],
      "metadata": {
        "id": "mk0eKh9QNnhh"
      },
      "execution_count": null,
      "outputs": []
    },
    {
      "cell_type": "code",
      "source": [
        "rnn.__dict__"
      ],
      "metadata": {
        "colab": {
          "base_uri": "https://localhost:8080/"
        },
        "id": "5iDOPQpkN2pb",
        "outputId": "5d6a01a6-ee60-4c63-8202-65475f7068e9"
      },
      "execution_count": null,
      "outputs": [
        {
          "output_type": "execute_result",
          "data": {
            "text/plain": [
              "{'Whh': array([[-1.85363988e-03,  1.82848696e-03, -6.95012006e-04, ...,\n",
              "          1.76085156e-03,  2.38020766e-04, -9.12487643e-04],\n",
              "        [-9.13936122e-04,  9.71430688e-04,  1.40452813e-04, ...,\n",
              "         -7.23966909e-04,  4.96538611e-04,  1.53556856e-04],\n",
              "        [ 1.81430268e-05,  9.11213341e-04, -1.41855538e-03, ...,\n",
              "         -5.33010182e-04,  1.15375924e-03,  3.00539899e-04],\n",
              "        ...,\n",
              "        [-1.01064396e-03,  5.97605542e-06,  6.98970583e-04, ...,\n",
              "         -3.89692286e-04, -1.56121388e-03,  9.95886754e-04],\n",
              "        [ 1.12240855e-03,  3.54724727e-04, -8.97466571e-04, ...,\n",
              "          1.41663036e-03,  1.54047239e-03,  5.91526216e-04],\n",
              "        [ 1.04234830e-03, -1.62561453e-04, -4.38641391e-04, ...,\n",
              "         -6.09382491e-04,  3.97062886e-04,  1.64192162e-03]]),\n",
              " 'Wxh': array([[-1.32165819e-03,  3.51607411e-04,  7.29396204e-04, ...,\n",
              "          2.44711584e-04,  4.71045693e-04, -3.69172269e-04],\n",
              "        [-4.76103775e-04, -5.70246250e-04,  1.11727410e-03, ...,\n",
              "         -8.65324496e-04,  1.28450137e-04, -8.80321895e-04],\n",
              "        [ 8.56223843e-04, -2.25307037e-04,  5.28802038e-04, ...,\n",
              "         -1.66337409e-03,  5.78732939e-04,  1.19214620e-03],\n",
              "        ...,\n",
              "        [ 4.44668335e-05, -3.11938183e-04,  9.64141893e-05, ...,\n",
              "         -1.78985875e-04, -3.05800648e-04,  1.16108999e-03],\n",
              "        [-7.66089223e-04,  8.38075005e-04,  2.06856063e-03, ...,\n",
              "          1.69841237e-03, -6.27818371e-04, -4.97704346e-04],\n",
              "        [ 1.76354809e-03,  1.59226211e-03,  1.11184010e-03, ...,\n",
              "         -6.06501470e-04, -2.21984930e-04,  2.07057958e-04]]),\n",
              " 'Why': array([[ 6.44098541e-04,  2.01929212e-03, -2.68507958e-04,\n",
              "          2.48319743e-04, -1.17936157e-03,  5.08013067e-04,\n",
              "          4.93662480e-04,  6.25869773e-05,  1.36597096e-03,\n",
              "          3.14394722e-04,  7.54814137e-05,  1.72066071e-03,\n",
              "         -2.38302659e-03, -1.25648656e-03,  1.04927476e-03,\n",
              "          1.75193403e-04,  6.21883788e-04,  9.60322662e-04,\n",
              "         -1.22274322e-03,  6.55006490e-04, -1.74194588e-04,\n",
              "         -9.74882755e-04, -1.60562390e-03, -4.04694831e-04,\n",
              "          1.03346582e-03,  2.84232851e-04, -4.22502750e-04,\n",
              "          4.38553992e-04,  1.56810987e-03,  4.49973507e-04,\n",
              "         -4.74631698e-04, -8.53344122e-04,  1.19215739e-03,\n",
              "         -1.10309069e-03,  6.85481768e-04, -7.20434505e-05,\n",
              "         -1.73381018e-03, -4.43074578e-04, -7.00471356e-04,\n",
              "         -4.37649665e-04,  1.69252490e-03,  1.75768040e-03,\n",
              "         -4.27468617e-04,  2.39041656e-03,  3.79328846e-04,\n",
              "          1.90818225e-03, -1.30744018e-03,  2.37076390e-04,\n",
              "         -4.15464224e-04,  5.94302299e-04,  4.11261415e-05,\n",
              "         -1.39139655e-03, -2.56746237e-04,  1.70265854e-04,\n",
              "          1.05313737e-03, -8.20904963e-04, -4.42015047e-05,\n",
              "          1.36814117e-03, -6.62819799e-04,  1.35566728e-03,\n",
              "         -2.75041555e-04,  1.01446447e-04, -1.30080687e-03,\n",
              "         -7.94802352e-04],\n",
              "        [ 8.25546090e-04, -7.24822420e-04, -1.35173679e-03,\n",
              "          1.99321921e-03,  1.59752923e-03, -7.83060322e-04,\n",
              "         -1.56021403e-03, -1.14311159e-03, -1.25233979e-03,\n",
              "          1.67139977e-03,  1.66053814e-03, -2.80324228e-04,\n",
              "          3.20905141e-04, -2.40090560e-04, -9.34433554e-04,\n",
              "         -2.87587199e-04, -2.24104630e-03,  1.12836587e-04,\n",
              "          1.32123786e-03,  6.26173310e-04,  2.10836503e-03,\n",
              "         -1.03398094e-03,  1.18419174e-03, -1.89042613e-03,\n",
              "         -2.72656848e-04, -3.97934773e-04,  1.76454830e-03,\n",
              "         -1.77893790e-03,  2.30639186e-04,  5.36555860e-05,\n",
              "         -1.26211325e-03, -7.84702870e-04,  2.00053039e-03,\n",
              "         -1.66159541e-03, -8.53578829e-04,  5.07395987e-04,\n",
              "         -3.01875956e-04, -9.13006304e-04,  6.54743811e-04,\n",
              "          4.08718932e-04,  6.79380273e-04,  7.77522262e-04,\n",
              "         -9.90282707e-04, -8.56834249e-04,  1.45961569e-03,\n",
              "         -1.53720314e-03,  1.88113520e-03, -1.35773982e-04,\n",
              "         -4.77869091e-04, -8.88811563e-05, -9.45267967e-04,\n",
              "          3.03903886e-03, -9.22161122e-04,  1.56969229e-03,\n",
              "          1.71556705e-03, -9.19102877e-04,  1.34098455e-03,\n",
              "          9.11715040e-05,  4.75723396e-05, -1.53378710e-04,\n",
              "          3.22141572e-04, -1.87220450e-03, -1.49277955e-03,\n",
              "         -7.46584103e-04]]),\n",
              " 'bh': array([[0.],\n",
              "        [0.],\n",
              "        [0.],\n",
              "        [0.],\n",
              "        [0.],\n",
              "        [0.],\n",
              "        [0.],\n",
              "        [0.],\n",
              "        [0.],\n",
              "        [0.],\n",
              "        [0.],\n",
              "        [0.],\n",
              "        [0.],\n",
              "        [0.],\n",
              "        [0.],\n",
              "        [0.],\n",
              "        [0.],\n",
              "        [0.],\n",
              "        [0.],\n",
              "        [0.],\n",
              "        [0.],\n",
              "        [0.],\n",
              "        [0.],\n",
              "        [0.],\n",
              "        [0.],\n",
              "        [0.],\n",
              "        [0.],\n",
              "        [0.],\n",
              "        [0.],\n",
              "        [0.],\n",
              "        [0.],\n",
              "        [0.],\n",
              "        [0.],\n",
              "        [0.],\n",
              "        [0.],\n",
              "        [0.],\n",
              "        [0.],\n",
              "        [0.],\n",
              "        [0.],\n",
              "        [0.],\n",
              "        [0.],\n",
              "        [0.],\n",
              "        [0.],\n",
              "        [0.],\n",
              "        [0.],\n",
              "        [0.],\n",
              "        [0.],\n",
              "        [0.],\n",
              "        [0.],\n",
              "        [0.],\n",
              "        [0.],\n",
              "        [0.],\n",
              "        [0.],\n",
              "        [0.],\n",
              "        [0.],\n",
              "        [0.],\n",
              "        [0.],\n",
              "        [0.],\n",
              "        [0.],\n",
              "        [0.],\n",
              "        [0.],\n",
              "        [0.],\n",
              "        [0.],\n",
              "        [0.]]),\n",
              " 'by': array([[0.],\n",
              "        [0.]])}"
            ]
          },
          "metadata": {},
          "execution_count": 24
        }
      ]
    },
    {
      "cell_type": "code",
      "source": [
        "inputs = createInputs(\"i am very happy\")\n",
        "inputs"
      ],
      "metadata": {
        "id": "_TI_H8Q6OkTp",
        "colab": {
          "base_uri": "https://localhost:8080/"
        },
        "outputId": "8c1c5f67-fec9-47ec-b82f-9ec87fc1ab5d"
      },
      "execution_count": null,
      "outputs": [
        {
          "output_type": "execute_result",
          "data": {
            "text/plain": [
              "[array([[0.],\n",
              "        [0.],\n",
              "        [0.],\n",
              "        [0.],\n",
              "        [0.],\n",
              "        [0.],\n",
              "        [0.],\n",
              "        [0.],\n",
              "        [0.],\n",
              "        [0.],\n",
              "        [1.],\n",
              "        [0.],\n",
              "        [0.],\n",
              "        [0.],\n",
              "        [0.],\n",
              "        [0.],\n",
              "        [0.],\n",
              "        [0.]]),\n",
              " array([[0.],\n",
              "        [0.],\n",
              "        [0.],\n",
              "        [1.],\n",
              "        [0.],\n",
              "        [0.],\n",
              "        [0.],\n",
              "        [0.],\n",
              "        [0.],\n",
              "        [0.],\n",
              "        [0.],\n",
              "        [0.],\n",
              "        [0.],\n",
              "        [0.],\n",
              "        [0.],\n",
              "        [0.],\n",
              "        [0.],\n",
              "        [0.]]),\n",
              " array([[0.],\n",
              "        [0.],\n",
              "        [0.],\n",
              "        [0.],\n",
              "        [0.],\n",
              "        [0.],\n",
              "        [0.],\n",
              "        [0.],\n",
              "        [0.],\n",
              "        [0.],\n",
              "        [0.],\n",
              "        [0.],\n",
              "        [0.],\n",
              "        [0.],\n",
              "        [0.],\n",
              "        [1.],\n",
              "        [0.],\n",
              "        [0.]]),\n",
              " array([[0.],\n",
              "        [0.],\n",
              "        [0.],\n",
              "        [0.],\n",
              "        [0.],\n",
              "        [0.],\n",
              "        [0.],\n",
              "        [1.],\n",
              "        [0.],\n",
              "        [0.],\n",
              "        [0.],\n",
              "        [0.],\n",
              "        [0.],\n",
              "        [0.],\n",
              "        [0.],\n",
              "        [0.],\n",
              "        [0.],\n",
              "        [0.]])]"
            ]
          },
          "metadata": {},
          "execution_count": 25
        }
      ]
    },
    {
      "cell_type": "code",
      "source": [
        "def softmax(xs):\n",
        "  # Applies the Softmax Function to the input array.\n",
        "  return np.exp(xs) / sum(np.exp(xs))"
      ],
      "metadata": {
        "id": "JfpktzqbQJ-L"
      },
      "execution_count": null,
      "outputs": []
    },
    {
      "cell_type": "code",
      "source": [
        "rnn.forward(inputs) # gives y and h"
      ],
      "metadata": {
        "colab": {
          "base_uri": "https://localhost:8080/"
        },
        "id": "-Ctb9cJtOoeC",
        "outputId": "34de4632-630e-4d21-c22f-775d376569e5"
      },
      "execution_count": null,
      "outputs": [
        {
          "output_type": "execute_result",
          "data": {
            "text/plain": [
              "(array([[ 4.58117111e-06],\n",
              "        [-5.95578682e-06]]),\n",
              " array([[-1.55581169e-05],\n",
              "        [ 1.63256078e-03],\n",
              "        [-4.66668333e-04],\n",
              "        [ 1.11979205e-03],\n",
              "        [ 1.02486616e-03],\n",
              "        [-4.32478320e-04],\n",
              "        [-7.60189504e-04],\n",
              "        [ 6.23782800e-04],\n",
              "        [ 1.43219997e-03],\n",
              "        [ 8.48638837e-04],\n",
              "        [ 7.10689157e-05],\n",
              "        [-1.25780392e-03],\n",
              "        [-2.81236925e-05],\n",
              "        [-2.58716478e-03],\n",
              "        [ 7.00997094e-04],\n",
              "        [-1.25822653e-04],\n",
              "        [ 6.25989206e-04],\n",
              "        [-4.28753713e-04],\n",
              "        [-6.99058134e-04],\n",
              "        [ 5.56342569e-04],\n",
              "        [ 9.54938599e-04],\n",
              "        [ 8.48367987e-04],\n",
              "        [-1.49542326e-03],\n",
              "        [ 2.48461729e-03],\n",
              "        [ 1.58904606e-03],\n",
              "        [-2.13366161e-03],\n",
              "        [-5.16045814e-04],\n",
              "        [ 9.63283641e-04],\n",
              "        [-4.79876665e-04],\n",
              "        [ 8.32568912e-04],\n",
              "        [ 4.59541761e-04],\n",
              "        [-1.75013816e-03],\n",
              "        [-2.16107804e-03],\n",
              "        [ 6.42420111e-04],\n",
              "        [ 1.40177931e-03],\n",
              "        [-6.28287806e-04],\n",
              "        [-6.80409949e-04],\n",
              "        [-1.33621413e-03],\n",
              "        [-1.31163415e-03],\n",
              "        [ 8.29537792e-04],\n",
              "        [-4.74637919e-04],\n",
              "        [-1.66516863e-04],\n",
              "        [ 1.06374564e-04],\n",
              "        [-2.15858239e-04],\n",
              "        [ 7.37266326e-04],\n",
              "        [-2.06837238e-03],\n",
              "        [-2.07789230e-03],\n",
              "        [ 1.27658897e-03],\n",
              "        [-4.04613979e-04],\n",
              "        [-7.28540380e-04],\n",
              "        [-1.08194673e-03],\n",
              "        [-2.78951485e-04],\n",
              "        [-9.73851479e-04],\n",
              "        [ 1.89982431e-05],\n",
              "        [-5.05218897e-04],\n",
              "        [ 5.49128362e-04],\n",
              "        [ 1.74102604e-03],\n",
              "        [-9.04646849e-05],\n",
              "        [ 4.00159293e-05],\n",
              "        [-2.04434489e-03],\n",
              "        [-6.27227895e-04],\n",
              "        [-1.26388118e-03],\n",
              "        [ 5.59466619e-04],\n",
              "        [-1.22962194e-03]]))"
            ]
          },
          "metadata": {},
          "execution_count": 27
        }
      ]
    },
    {
      "cell_type": "code",
      "source": [
        "rnn.forward(inputs)[0] # y alone"
      ],
      "metadata": {
        "colab": {
          "base_uri": "https://localhost:8080/"
        },
        "id": "iq3SMxsHPXng",
        "outputId": "4239b6a4-c300-4f1c-b89f-e164547807b5"
      },
      "execution_count": null,
      "outputs": [
        {
          "output_type": "execute_result",
          "data": {
            "text/plain": [
              "array([[ 4.58117111e-06],\n",
              "       [-5.95578682e-06]])"
            ]
          },
          "metadata": {},
          "execution_count": 28
        }
      ]
    },
    {
      "cell_type": "code",
      "source": [
        "softmax(rnn.forward(inputs)[0])"
      ],
      "metadata": {
        "colab": {
          "base_uri": "https://localhost:8080/"
        },
        "id": "asi2-yaDPQ48",
        "outputId": "f1207283-c0ae-44d0-e1c3-a37b9b1a2a8b"
      },
      "execution_count": null,
      "outputs": [
        {
          "output_type": "execute_result",
          "data": {
            "text/plain": [
              "array([[0.50000263],\n",
              "       [0.49999737]])"
            ]
          },
          "metadata": {},
          "execution_count": 29
        }
      ]
    },
    {
      "cell_type": "code",
      "source": [
        "inputs = createInputs(\"i am happy\")\n",
        "softmax(rnn.forward(inputs)[0])"
      ],
      "metadata": {
        "colab": {
          "base_uri": "https://localhost:8080/"
        },
        "id": "dsHTQ6eUQlYy",
        "outputId": "0a25a641-6349-46b6-8b4a-90a92fd98dbb"
      },
      "execution_count": null,
      "outputs": [
        {
          "output_type": "execute_result",
          "data": {
            "text/plain": [
              "array([[0.50000268],\n",
              "       [0.49999732]])"
            ]
          },
          "metadata": {},
          "execution_count": 30
        }
      ]
    },
    {
      "cell_type": "code",
      "source": [
        "# sad [1, 0]\n",
        "# happy [0, 1]"
      ],
      "metadata": {
        "id": "zY75IuZAQvsV"
      },
      "execution_count": null,
      "outputs": []
    },
    {
      "cell_type": "code",
      "source": [
        "import random\n",
        "\n",
        "def processData(data, backprop=True):\n",
        "  '''\n",
        "  Returns the RNN's loss and accuracy for the given data.\n",
        "  - data is a dictionary mapping text to True or False.\n",
        "  - backprop determines if the backward phase should be run.\n",
        "  '''\n",
        "  items = list(data.items())\n",
        "  random.shuffle(items)\n",
        "\n",
        "  loss = 0\n",
        "  num_correct = 0\n",
        "\n",
        "  for x, y in items:\n",
        "    inputs = createInputs(x)\n",
        "    target = int(y)\n",
        "\n",
        "    # Forward\n",
        "    out, _ = rnn.forward(inputs)\n",
        "    probs = softmax(out)\n",
        "\n",
        "    # Calculate loss / accuracy\n",
        "    loss -= np.log(probs[target])\n",
        "    num_correct += int(np.argmax(probs) == target)\n",
        "\n",
        "    if backprop:\n",
        "      # Build dL/dy\n",
        "      d_L_d_y = probs\n",
        "      d_L_d_y[target] -= 1\n",
        "\n",
        "      # Backward\n",
        "      rnn.backprop(d_L_d_y)\n",
        "\n",
        "  return loss / len(data), num_correct / len(data)"
      ],
      "metadata": {
        "id": "r15JH8RyTuPA"
      },
      "execution_count": null,
      "outputs": []
    },
    {
      "cell_type": "code",
      "source": [
        "train_data"
      ],
      "metadata": {
        "colab": {
          "base_uri": "https://localhost:8080/"
        },
        "id": "5ccb36jtPtNz",
        "outputId": "a5edd4ed-e960-4341-d9ba-13271607c5da"
      },
      "execution_count": null,
      "outputs": [
        {
          "output_type": "execute_result",
          "data": {
            "text/plain": [
              "{'good': True,\n",
              " 'bad': False,\n",
              " 'happy': True,\n",
              " 'sad': False,\n",
              " 'not good': False,\n",
              " 'not bad': True,\n",
              " 'not happy': False,\n",
              " 'not sad': True,\n",
              " 'very good': True,\n",
              " 'very bad': False,\n",
              " 'very happy': True,\n",
              " 'very sad': False,\n",
              " 'i am happy': True,\n",
              " 'this is good': True,\n",
              " 'i am bad': False,\n",
              " 'this is bad': False,\n",
              " 'i am sad': False,\n",
              " 'this is sad': False,\n",
              " 'i am not happy': False,\n",
              " 'this is not good': False,\n",
              " 'i am not bad': True,\n",
              " 'this is not sad': True,\n",
              " 'i am very happy': True,\n",
              " 'this is very good': True,\n",
              " 'i am very bad': False,\n",
              " 'this is very sad': False,\n",
              " 'this is very happy': True,\n",
              " 'i am good not bad': True,\n",
              " 'this is good not bad': True,\n",
              " 'i am bad not good': False,\n",
              " 'i am good and happy': True,\n",
              " 'this is not good and not happy': False,\n",
              " 'i am not at all good': False,\n",
              " 'i am not at all bad': True,\n",
              " 'i am not at all happy': False,\n",
              " 'this is not at all sad': True,\n",
              " 'this is not at all happy': False,\n",
              " 'i am good right now': True,\n",
              " 'i am bad right now': False,\n",
              " 'this is bad right now': False,\n",
              " 'i am sad right now': False,\n",
              " 'i was good earlier': True,\n",
              " 'i was happy earlier': True,\n",
              " 'i was bad earlier': False,\n",
              " 'i was sad earlier': False,\n",
              " 'i am very bad right now': False,\n",
              " 'this is very good right now': True,\n",
              " 'this is very sad right now': False,\n",
              " 'this was bad earlier': False,\n",
              " 'this was very good earlier': True,\n",
              " 'this was very bad earlier': False,\n",
              " 'this was very happy earlier': True,\n",
              " 'this was very sad earlier': False,\n",
              " 'i was good and not bad earlier': True,\n",
              " 'i was not good and not happy earlier': False,\n",
              " 'i am not at all bad or sad right now': True,\n",
              " 'i am not at all good or happy right now': False,\n",
              " 'this was not happy and not good earlier': False}"
            ]
          },
          "metadata": {},
          "execution_count": 33
        }
      ]
    },
    {
      "cell_type": "code",
      "source": [
        "# Training loop\n",
        "for epoch in range(1000):\n",
        "  train_loss, train_acc = processData(train_data)\n",
        "\n",
        "  if epoch % 100 == 99:\n",
        "    print('--- Epoch %d' % (epoch + 1))\n",
        "    print('Train:\\tLoss %.3f | Accuracy: %.3f' % (train_loss, train_acc))\n",
        "\n",
        "    test_loss, test_acc = processData(test_data, backprop=False)\n",
        "    print('Test:\\tLoss %.3f | Accuracy: %.3f' % (test_loss, test_acc))"
      ],
      "metadata": {
        "colab": {
          "base_uri": "https://localhost:8080/"
        },
        "id": "IzRufI8lY7it",
        "outputId": "d97e8ab5-d6c8-432a-c005-970087391d70"
      },
      "execution_count": null,
      "outputs": [
        {
          "output_type": "stream",
          "name": "stdout",
          "text": [
            "--- Epoch 100\n",
            "Train:\tLoss 0.687 | Accuracy: 0.500\n",
            "Test:\tLoss 0.699 | Accuracy: 0.500\n",
            "--- Epoch 200\n",
            "Train:\tLoss 0.661 | Accuracy: 0.672\n",
            "Test:\tLoss 0.718 | Accuracy: 0.450\n",
            "--- Epoch 300\n",
            "Train:\tLoss 0.620 | Accuracy: 0.621\n",
            "Test:\tLoss 0.669 | Accuracy: 0.550\n",
            "--- Epoch 400\n",
            "Train:\tLoss 0.455 | Accuracy: 0.776\n",
            "Test:\tLoss 0.589 | Accuracy: 0.700\n",
            "--- Epoch 500\n",
            "Train:\tLoss 0.375 | Accuracy: 0.845\n",
            "Test:\tLoss 0.633 | Accuracy: 0.550\n",
            "--- Epoch 600\n",
            "Train:\tLoss 0.209 | Accuracy: 0.897\n",
            "Test:\tLoss 0.645 | Accuracy: 0.700\n",
            "--- Epoch 700\n",
            "Train:\tLoss 0.205 | Accuracy: 0.931\n",
            "Test:\tLoss 0.287 | Accuracy: 0.850\n",
            "--- Epoch 800\n",
            "Train:\tLoss 0.007 | Accuracy: 1.000\n",
            "Test:\tLoss 0.115 | Accuracy: 0.950\n",
            "--- Epoch 900\n",
            "Train:\tLoss 0.003 | Accuracy: 1.000\n",
            "Test:\tLoss 0.090 | Accuracy: 0.950\n",
            "--- Epoch 1000\n",
            "Train:\tLoss 0.002 | Accuracy: 1.000\n",
            "Test:\tLoss 0.098 | Accuracy: 0.950\n"
          ]
        }
      ]
    },
    {
      "cell_type": "code",
      "source": [
        "rnn.__dict__"
      ],
      "metadata": {
        "id": "0lv26G5iUhMl"
      },
      "execution_count": null,
      "outputs": []
    },
    {
      "cell_type": "code",
      "source": [
        "inputs = createInputs(\"i am happy\")\n",
        "out, _ = rnn.forward(inputs)\n",
        "softmax(out)"
      ],
      "metadata": {
        "colab": {
          "base_uri": "https://localhost:8080/"
        },
        "id": "VHSxdhFAaHP1",
        "outputId": "4d638032-ecfa-48c0-fc4a-0eff6282be39"
      },
      "execution_count": null,
      "outputs": [
        {
          "output_type": "execute_result",
          "data": {
            "text/plain": [
              "array([[1.97119346e-06],\n",
              "       [9.99998029e-01]])"
            ]
          },
          "metadata": {},
          "execution_count": 36
        }
      ]
    },
    {
      "cell_type": "code",
      "source": [
        "inputs = createInputs(\"i am sad\")\n",
        "out, _ = rnn.forward(inputs)\n",
        "softmax(out)"
      ],
      "metadata": {
        "colab": {
          "base_uri": "https://localhost:8080/"
        },
        "id": "vqTjjekGaWAJ",
        "outputId": "ca66f80f-b57b-4a2c-cbba-52e6ee21f958"
      },
      "execution_count": null,
      "outputs": [
        {
          "output_type": "execute_result",
          "data": {
            "text/plain": [
              "array([[9.99681640e-01],\n",
              "       [3.18360311e-04]])"
            ]
          },
          "metadata": {},
          "execution_count": 37
        }
      ]
    },
    {
      "cell_type": "code",
      "source": [
        "inputs = createInputs(\"i am great\")\n",
        "out, _ = rnn.forward(inputs)\n",
        "softmax(out)\n",
        "\n",
        "# Out of Vocab Word"
      ],
      "metadata": {
        "id": "vu4wpOCbU6YJ"
      },
      "execution_count": null,
      "outputs": []
    },
    {
      "cell_type": "code",
      "source": [],
      "metadata": {
        "id": "ZfX-UfNsVEFL"
      },
      "execution_count": null,
      "outputs": []
    }
  ]
}